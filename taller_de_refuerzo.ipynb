{
  "cells": [
    {
      "cell_type": "code",
      "execution_count": null,
      "metadata": {
        "colab": {
          "base_uri": "https://localhost:8080/"
        },
        "id": "EDyeBYATqn90",
        "outputId": "88668ea1-8e8a-4da7-8eec-1ab0d24baa3d"
      },
      "outputs": [
        {
          "name": "stdout",
          "output_type": "stream",
          "text": [
            "Ejercicio Nro 1 \n",
            "Un vendedotr recibe un suledo base más un 10% extra por comisión de sus ventas, el vendedor desea saber cuánto obtendrá por concepto de comisiones por las tres ventas que realiza\n",
            "en el mes y el total que recibirá en el mes tomando en cuenta su sueldo base y comisiones\n",
            "\n",
            "Respuesta\n",
            "\n",
            "venta Nro. 1 1500000\n",
            "comision venta Nro 1 $150,000 \n",
            "\n",
            "venta Nro. 2 2000000\n",
            "comision venta Nro 2 $200,000 \n",
            "\n",
            "venta Nro. 3 3000000\n",
            "comision venta Nro 3 $300,000 \n",
            "\n",
            "Total comisiones $650,000 \n",
            "\n",
            "Sueldo Base 1500000\n",
            "Salario $1,500,000 \n",
            "\n",
            "Total Salario más comisiones $2,150,000\n"
          ]
        }
      ],
      "source": [
        "print(\"Ejercicio Nro 1 \")\n",
        "print(\"Un vendedotr recibe un suledo base más un 10% extra por comisión de sus ventas, el vendedor desea saber cuánto obtendrá por concepto de comisiones por las tres ventas que realiza\")\n",
        "print(\"en el mes y el total que recibirá en el mes tomando en cuenta su sueldo base y comisiones\\n\")\n",
        "print(\"Respuesta\\n\")\n",
        "venta1=int(input(\"venta Nro. 1 \"))\n",
        "comi_1=venta1 * 0.10\n",
        "print(\"Comision venta Nro 1 ${:,.0f} \\n\".format (comi_1))\n",
        "venta2=int(input(\"venta Nro. 2 \"))\n",
        "comi_2=venta2 * 0.10\n",
        "print(\"Comision venta Nro 2 ${:,.0f} \\n\".format (comi_2))\n",
        "venta3=int(input(\"venta Nro. 3 \"))\n",
        "comi_3=venta3 * 0.10\n",
        "print(\"Comision venta Nro 3 ${:,.0f} \\n\".format (comi_3))\n",
        "comision=comi_1 + comi_2 + comi_3\n",
        "print(\"Total comisiones ${:,.0f} \\n\" .format (comision))\n",
        "basico = int(input(\"Sueldo Base \"))\n",
        "print(\"Salario ${:,.0f} \\n\" .format (basico))\n",
        "total_b=basico + comision\n",
        "print(\"Total Salario más comisiones ${:,.0f}\" .format (total_b))\n"
      ]
    },
    {
      "cell_type": "code",
      "execution_count": null,
      "metadata": {
        "id": "UXw9uiyPfZeB"
      },
      "outputs": [],
      "source": []
    },
    {
      "cell_type": "code",
      "execution_count": null,
      "metadata": {
        "colab": {
          "base_uri": "https://localhost:8080/"
        },
        "id": "8H1Ykluhq13l",
        "outputId": "a15ad85f-8da9-4679-8c43-d9a24e0077df"
      },
      "outputs": [
        {
          "name": "stdout",
          "output_type": "stream",
          "text": [
            "Ejercicio Nro 2 \n",
            "Una tienda ofrece un descuento del 15% sobre el total de la compra y un cliente desea saber cuánto deberá pagar finalmente por su compra \n",
            "\n",
            "Respuesta\n",
            "\n",
            "Valor de la compra 17000000\n",
            "Descuento del 15% en la compra $150,000 \n",
            "\n",
            "Valor total de la compra $14,450,000 \n",
            "\n"
          ]
        }
      ],
      "source": [
        "print(\"Ejercicio Nro 2 \")\n",
        "print(\"Una tienda ofrece un descuento del 15% sobre el total de la compra y un cliente desea saber cuánto deberá pagar finalmente por su compra \\n\")\n",
        "print(\"Respuesta\\n\")\n",
        "venta1=int(input(\"Valor de la compra \"))\n",
        "desc_1=venta1 * 0.15\n",
        "print(\"Descuento del 15% en la compra ${:,.0f} \\n\".format (comi_1))\n",
        "compra=venta1 - desc_1\n",
        "print(\"Valor total de la compra ${:,.0f} \\n\".format (compra))\n"
      ]
    },
    {
      "cell_type": "code",
      "execution_count": null,
      "metadata": {
        "colab": {
          "base_uri": "https://localhost:8080/"
        },
        "id": "VW_aXkaYq9XH",
        "outputId": "0299df26-ea05-4198-a5e0-b397f8fbac31"
      },
      "outputs": [
        {
          "name": "stdout",
          "output_type": "stream",
          "text": [
            "Ejercicio Nro 3 \n",
            "Un alumno desea saber cuál será su calificación final en la materia de Algoritmos. Dicha calificación se compone de tres exámenes parciales \n",
            "\n",
            "Parcial Nro 1  8.0\n",
            "Parcial Nro 2  7.5\n",
            "Parcial Nro 3  4.7\n",
            "Nota final 6.7 \n",
            "\n"
          ]
        }
      ],
      "source": [
        "print(\"Ejercicio Nro 3 \")\n",
        "print(\"Un alumno desea saber cuál será su calificación final en la materia de Algoritmos. Dicha calificación se compone de tres exámenes parciales \\n\")\n",
        "parcial_1 = float(input(\"Parcial Nro 1  \"))\n",
        "parcial_2 = float(input(\"Parcial Nro 2  \"))\n",
        "parcial_3 = float(input(\"Parcial Nro 3  \"))\n",
        "nota = ((parcial_1 + parcial_2 +parcial_3)/3)\n",
        "print(\"Nota final {:,.1f} \\n\".format (nota))"
      ]
    },
    {
      "cell_type": "code",
      "execution_count": null,
      "metadata": {
        "colab": {
          "base_uri": "https://localhost:8080/"
        },
        "id": "_ygFvQ8CtVw6",
        "outputId": "db148c49-b4ff-4253-c88b-94ffb33f18e2"
      },
      "outputs": [
        {
          "name": "stdout",
          "output_type": "stream",
          "text": [
            "Ejercicio Nro 4 \n",
            "Un maestro desea saber que porcentaje de hombres y que porcentaje de mujeres hay en un grupo de estudiantes \n",
            "\n",
            "Numero total de estudiantes en el curso 80\n",
            "Numero total de hombres en el curso 50\n",
            "Numero total de mujeres en el curso 30\n",
            "Porcentaje de hombres en el curso 62.5% \n",
            "Porcentaje de mujeres en el curso 37.5% \n",
            "\n"
          ]
        }
      ],
      "source": [
        "print(\"Ejercicio Nro 4 \")\n",
        "print(\"Un maestro desea saber que porcentaje de hombres y que porcentaje de mujeres hay en un grupo de estudiantes \\n\")\n",
        "estudiantes = int(input(\"Numero total de estudiantes en el curso \"))\n",
        "hombres = int(input(\"Numero total de hombres en el curso \"))\n",
        "mujeres = int(input(\"Numero total de mujeres en el curso \"))\n",
        "hhh = (hombres / estudiantes)\n",
        "hhh = hhh * 100\n",
        "mmm = (mujeres / estudiantes)\n",
        "mmm = mmm * 100\n",
        "print(\"Porcentaje de hombres en el curso {}% \".format (hhh))\n",
        "print(\"Porcentaje de mujeres en el curso {}% \\n\".format (mmm))\n"
      ]
    },
    {
      "cell_type": "code",
      "execution_count": null,
      "metadata": {
        "id": "hLK9fl7ihR6g"
      },
      "outputs": [],
      "source": [
        "print(\"Ejercicios de repaso Ciclo for y Ciclo While\")\n",
        "print(\"Ejercicio Nro 1\")\n",
        "print(\"Se necesita un sistema que despliegue una tabla de multiplicar de un numero dado por el usuario (Ciclo For)\")\n",
        "\n",
        "num = int(input(\"Digite el número de la tabla de multiplicar: \"))\n",
        "\n",
        "for i in range(11):\n",
        "  print(i, \" x \", num, \" = \", i * num)"
      ]
    },
    {
      "cell_type": "code",
      "execution_count": null,
      "metadata": {
        "colab": {
          "background_save": true,
          "base_uri": "https://localhost:8080/"
        },
        "id": "V5-QL1nKhZp8",
        "outputId": "8bc5346c-c934-4d56-8e8c-9cd7ed38ff3b"
      },
      "outputs": [
        {
          "name": "stdout",
          "output_type": "stream",
          "text": [
            "Ejercicio Nro 2\n"
          ]
        }
      ],
      "source": [
        "print(\"Ejercicio Nro 2\")\n",
        "#print(\"Se necesita un sistema que pida un sueldo de un trabajador, si el sueldo es mayor a 655000, no tedrá ninguna bonificación,\")\n",
        "#print(\"pero si es menor tiene bonificación del 4%. Al final se desea saber el total del sueldo con o sin bonificación.\")\n",
        "#print(\"Preguntar si desea ejecutar de nuevo el programa con el ciclo while.\")\n",
        "\n",
        "resp = \"si\"\n",
        "while resp == \"si\" or resp == \"SI\" or resp == \"s\":\n",
        "  sala = 0\n",
        "  sala_1 = 655000\n",
        "  boni = 0\n",
        "  tota = 0\n",
        "\n",
        "  sala=int(input(\"Salario :\"))\n",
        "  while sala < sala_1:\n",
        "    boni = sala * 0.04\n",
        "    tota = tota + sala\n",
        "    print(\"a={}, b={}, c={}\".format(a,b,c))\n",
        "  sala_1 = 655000\n",
        "  resp = input(\"¿Desea realizarlo de nuevo?(si/no)\")\n"
      ]
    },
    {
      "cell_type": "code",
      "execution_count": null,
      "metadata": {
        "id": "evNe5xv2iWtF"
      },
      "outputs": [],
      "source": [
        "print(\"Ejercicio Nro 3\")\n",
        "print(\"Un maestro necesita un sistema para capturar las calificaciones de 5 parciales de sus alumnos, después recapturarlas necesita que se despliegue\")\n",
        "print(\"el promedio, cuando ya no quiera capturar más alumnos, necesita que se despliegue el promedio general de todos los alumnos capturados.\")\n",
        "print(\"Preguntar si desea ejecutar de nuevo el print(programa con el ciclo while.\")"
      ]
    },
    {
      "cell_type": "code",
      "execution_count": null,
      "metadata": {
        "id": "CrVkkzpRkoJx"
      },
      "outputs": [],
      "source": [
        "print(\"Ejercicio Nro 4\")\n",
        "print(\"Crear un bucle que cuente todos los números pares hasta el 100 ciclo for\")\n",
        "x = 0\n",
        "while x <= 100:\n",
        "    print(x)\n",
        "    x += 2\n",
        "    "
      ]
    },
    {
      "cell_type": "code",
      "execution_count": null,
      "metadata": {
        "id": "1yJpa3-ulYGx"
      },
      "outputs": [],
      "source": [
        "print(\"Ejercicio Nro 5\")\n",
        "print(\"Haz una tabla de multiplicar utilizando el ciclo for \")\n",
        "num = int(input(\"Digite el número de la tabla de multiplicar: \"))\n",
        "i=0\n",
        "for i in range(11):\n",
        "  print(i, \" x \", num, \" = \", i * num)\n",
        "  i = i + 1\n"
      ]
    },
    {
      "cell_type": "code",
      "execution_count": null,
      "metadata": {
        "id": "L_WOIX7NJZwS"
      },
      "outputs": [],
      "source": [
        "print(\"Ejercicio Nro 6\")\n",
        "print(\"Escribir un programa que pregunte al usuario su edad y muestre por pantalla todos los años que ha cumplido (desde el 1 hasta su edad) ciclo for\")\n",
        "\n",
        "from datetime import datetime\n",
        "now = datetime.now()\n",
        "now.year\n",
        "año_act = 0\n",
        "calc = 0\n",
        "print(now.year)\n",
        "cont = 0\n",
        "edad = int(input(\"digite su edad: \"))\n",
        "calc = now.year - edad\n",
        "while calc < now.year:\n",
        "  cont= cont +1 \n",
        "  print(f\"Año Numero {cont}   {calc} \")\n",
        "  calc += 1\n",
        "#  cont = cont +1\n",
        "print(f\"En el año {calc}  cumple {edad +1} años\")"
      ]
    },
    {
      "cell_type": "code",
      "execution_count": null,
      "metadata": {
        "id": "Hri97z09hO5S"
      },
      "outputs": [],
      "source": []
    }
  ],
  "metadata": {
    "colab": {
      "provenance": []
    },
    "kernelspec": {
      "display_name": "Python 3",
      "name": "python3"
    },
    "language_info": {
      "name": "python"
    }
  },
  "nbformat": 4,
  "nbformat_minor": 0
}
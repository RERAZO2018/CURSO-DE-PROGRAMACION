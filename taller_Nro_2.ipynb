{
  "nbformat": 4,
  "nbformat_minor": 0,
  "metadata": {
    "colab": {
      "provenance": [],
      "authorship_tag": "ABX9TyO9/vJCep4hSZytdZX2XX8K",
      "include_colab_link": true
    },
    "kernelspec": {
      "name": "python3",
      "display_name": "Python 3"
    },
    "language_info": {
      "name": "python"
    }
  },
  "cells": [
    {
      "cell_type": "markdown",
      "metadata": {
        "id": "view-in-github",
        "colab_type": "text"
      },
      "source": [
        "<a href=\"https://colab.research.google.com/github/RERAZO2018/CURSO-DE-PROGRAMACION/blob/main/taller_Nro_2.ipynb\" target=\"_parent\"><img src=\"https://colab.research.google.com/assets/colab-badge.svg\" alt=\"Open In Colab\"/></a>"
      ]
    },
    {
      "cell_type": "code",
      "execution_count": null,
      "metadata": {
        "id": "rkznKn_b7aW-"
      },
      "outputs": [],
      "source": [
        "venta = float(input(\"Ingrese el valor total de la compra $: \"))\n",
        "iva = venta * 0.19\n",
        "total = venta + iva\n",
        "print(\"El iva es de ${:,.0f} y el valor total a pagar es= ${:,.0f} \".format(iva,total))\n"
      ]
    },
    {
      "cell_type": "code",
      "source": [
        "print(\"Ejercicio con funciones \")\n",
        "def total():\n",
        "  venta = float(input(\"Ingrese el valor total de la compra $: \"))\n",
        "  iva = venta * 0.19\n",
        "  total = venta + iva\n",
        "  \n",
        "  print(\"El iva es de ${:,.0f} y el valor total a pagar es= ${:,.0f} \".format(iva,total))\n",
        "total()"
      ],
      "metadata": {
        "id": "B3d3Zwu2BoQP"
      },
      "execution_count": null,
      "outputs": []
    },
    {
      "cell_type": "code",
      "source": [
        "print(\"Ejercicio Nro 1 \")\n",
        "print(\"Un vendedotr recibe un suledo base más un 10% extra por comisión de sus ventas, el vendedor desea saber cuánto obtendrá por concepto de comisiones por las tres ventas que realiza\")\n",
        "print(\"en el mes y el total que recibirá en el mes tomando en cuenta su sueldo base y comisiones\\n\")\n",
        "print(\"Respuesta\\n\")\n",
        "venta1=int(input(\"venta Nro. 1 \"))\n",
        "comi_1=venta1 * 0.10\n",
        "print(\"Comision venta Nro 1 ${:,.0f} \\n\".format (comi_1))\n",
        "venta2=int(input(\"venta Nro. 2 \"))\n",
        "comi_2=venta2 * 0.10\n",
        "print(\"Comision venta Nro 2 ${:,.0f} \\n\".format (comi_2))\n",
        "venta3=int(input(\"venta Nro. 3 \"))\n",
        "comi_3=venta3 * 0.10\n",
        "print(\"Comision venta Nro 3 ${:,.0f} \\n\".format (comi_3))\n",
        "comision=comi_1 + comi_2 + comi_3\n",
        "print(\"Total comisiones ${:,.0f} \\n\" .format (comision))\n",
        "basico = int(input(\"Sueldo Base \"))\n",
        "print(\"Salario ${:,.0f} \\n\" .format (basico))\n",
        "total_b=basico + comision\n",
        "print(\"Total Salario más comisiones ${:,.0f}\" .format (total_b))"
      ],
      "metadata": {
        "id": "UYChebl68-NR"
      },
      "execution_count": null,
      "outputs": []
    },
    {
      "cell_type": "code",
      "source": [
        "print(\"Ejercicio Nro 2 \")\n",
        "print(\"Una tienda ofrece un descuento del 15% sobre el total de la compra y un cliente desea saber cuánto deberá pagar finalmente por su compra \\n\")\n",
        "print(\"Respuesta\\n\")\n",
        "venta1=int(input(\"Valor de la compra \"))\n",
        "desc_1=venta1 * 0.15\n",
        "print(\"Descuento del 15% en la compra ${:,.0f} \\n\".format (comi_1))\n",
        "compra=venta1 - desc_1\n",
        "print(\"Valor total de la compra ${:,.0f} \\n\".format (compra))"
      ],
      "metadata": {
        "id": "TsmQQ7f49D6D"
      },
      "execution_count": null,
      "outputs": []
    },
    {
      "cell_type": "code",
      "source": [
        "print(\"Ejercicio Nro 3 \")\n",
        "print(\"Una tienda ofrece un descuento del 15% sobre el total de la compra y un cliente desea saber cuánto deberá pagar finalmente por su compra \\n\")\n",
        "print(\"Respuesta\\n\")\n",
        "venta1=int(input(\"Valor de la compra \"))\n",
        "desc_1=venta1 * 0.15\n",
        "print(\"Descuento del 15% en la compra ${:,.0f} \\n\".format (comi_1))\n",
        "compra=venta1 - desc_1\n",
        "print(\"Valor total de la compra ${:,.0f} \\n\".format (compra))"
      ],
      "metadata": {
        "id": "lUzM4Am59KEQ"
      },
      "execution_count": null,
      "outputs": []
    },
    {
      "cell_type": "code",
      "source": [
        "print(\"Ejercicio Nro 4 \")\n",
        "print(\"Un maestro desea saber que porcentaje de hombres y que porcentaje de mujeres hay en un grupo de estudiantes \\n\")\n",
        "estudiantes = int(input(\"Numero total de estudiantes en el curso \"))\n",
        "hombres = int(input(\"Numero total de hombres en el curso \"))\n",
        "mujeres = int(input(\"Numero total de mujeres en el curso \"))\n",
        "hhh = (hombres / estudiantes)\n",
        "hhh = hhh * 100\n",
        "mmm = (mujeres / estudiantes)\n",
        "mmm = mmm * 100\n",
        "print(\"Porcentaje de hombres en el curso {:,.2f}% \".format (hhh))\n",
        "print(\"Porcentaje de mujeres en el curso {:,.2f}% \\n\".format (mmm))"
      ],
      "metadata": {
        "id": "_H0_ricU9QGV"
      },
      "execution_count": null,
      "outputs": []
    },
    {
      "cell_type": "code",
      "source": [
        "def total():\n",
        "  venta = float(input(\"Ingrese el valor total de la compra $: \"))\n",
        "  iva = venta * 0.19\n",
        "  total = venta + iva\n",
        "  \n",
        "  print(\"El iva es de ${:,.0f} y el valor total a pagar es= ${:,.0f} \".format(iva,total))\n",
        "total()"
      ],
      "metadata": {
        "id": "DRQ3L6mQ9VAU"
      },
      "execution_count": null,
      "outputs": []
    }
  ]
}
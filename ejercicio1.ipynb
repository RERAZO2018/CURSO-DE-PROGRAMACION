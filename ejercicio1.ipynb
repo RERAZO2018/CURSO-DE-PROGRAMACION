{
  "nbformat": 4,
  "nbformat_minor": 0,
  "metadata": {
    "colab": {
      "provenance": [],
      "authorship_tag": "ABX9TyNQ03g5XTCDc7QtWK4ESH7T",
      "include_colab_link": true
    },
    "kernelspec": {
      "name": "python3",
      "display_name": "Python 3"
    },
    "language_info": {
      "name": "python"
    }
  },
  "cells": [
    {
      "cell_type": "markdown",
      "metadata": {
        "id": "view-in-github",
        "colab_type": "text"
      },
      "source": [
        "<a href=\"https://colab.research.google.com/github/RERAZO2018/CURSO-DE-PROGRAMACION/blob/main/ejercicio1.ipynb\" target=\"_parent\"><img src=\"https://colab.research.google.com/assets/colab-badge.svg\" alt=\"Open In Colab\"/></a>"
      ]
    },
    {
      "cell_type": "code",
      "source": [],
      "metadata": {
        "id": "vweqBkD8OVpH"
      },
      "execution_count": null,
      "outputs": []
    },
    {
      "cell_type": "code",
      "execution_count": null,
      "metadata": {
        "id": "Ma5W48zRyIBz"
      },
      "outputs": [],
      "source": [
        "num_id = input(\"Numero de identificacion \")\n",
        "nombres = input(\"Nombres \")\n",
        "apellidos = input(\"Apellidos \")\n",
        "direccion = input(\"Direccion \")\n",
        "telefono = int(input(\"Telefono \"))\n",
        "edad = int(input(\"Edad \"))\n",
        "estado = input(\"Estado Civil \")\n",
        "hijos = int(input(\"Numero de hijos \"))\n",
        "estat_cm = input(\"Estatura en cm \")\n",
        "fecha_cont = input(\"Fecha de Contratacion \")\n",
        "sueldo = int(input(\"Sueldo Basico \"))\n",
        "dias_lab = int(input(\"Dias Laborados \"))\n",
        "print(\"\\n\")\n",
        "print(f\"Identificación: {num_id}\")\n",
        "print(f\"Nombre: {nombres} Apellidos: {apellidos} Direccion: {direccion} Telefono: {telefono} Edad: {edad} \")\n",
        "print(f\"Estado civil: {estado} Numero de hijos: {hijos} estatura: {estat_cm} \")\n",
        "print(f\"Fecha de Contratacion: {fecha_cont} Sueldo: {sueldo}  Dias Laborados: {dias_lab}\")\n",
        "print(\"\\n\")\n",
        "if edad > 55:\n",
        "  bono = sueldo * 0.005\n",
        "  print(\"Es mayor de 55 años y tiene derecho a un bono de prepension por valor de: ${:,.0f} \\n\".format (bono))\n",
        "else:\n",
        "  print(f\"Su edad es {edad} años, es menor que 55 años, No tiene derecho a bono prepensional\")\n",
        "if estado == \"casado\" and hijos > 0:\n",
        "  print(f\"Estado civil {estado}, se le otorga un paseo cada Diciembre\")\n",
        "else:\n",
        "  print(\"No se le otorga un paseo en Diciembre\")\n",
        "if sueldo >= 1000000 and sueldo <= 1500000:\n",
        "  comision = sueldo * 0.002\n",
        "  print(\"Rango de sueldo entre $ 1.000.000 y $ 1.500.000, tiene derecho a una comision del 2% sobre su sueldo: ${:,.0f} \\n\".format (comision))\n",
        "elif sueldo >= 1500001 and sueldo <= 2000000:\n",
        "    comision_2 = sueldo * 0.005\n",
        "    print(\"Rango de sueldo entre $ 1.500.001 y $ 2.000.000, tiene derecho a una comision del 5% sobre su sueldo: ${:,.0f} \\n\".format (comision_2))\n",
        "else:\n",
        "  print(\"Su sueldo esta fuera de los rangos establecidos, No hay comision \")\n",
        "if dias_lab > 20 and sueldo < 1000000:\n",
        "  print(f\"Trabajo {dias_lab} dias, su ingreso base es de ${sueldo}, tiene derecho a un bono de alimentación\")\n",
        "else:\n",
        "  print(\"No cumple con las condiciones para tener derecho a un bono de alimentación\")  \n"
      ]
    },
    {
      "cell_type": "code",
      "source": [
        "print(\"Ejercicio Nro 1 con funciones\")\n",
        "\n",
        "def funcionario():\n",
        "  num_id = input(\"Numero de identificacion \")\n",
        "  nombres = input(\"Nombres \")\n",
        "  apellidos = input(\"Apellidos \")\n",
        "  direccion = input(\"Direccion \")\n",
        "  telefono = int(input(\"Telefono \"))\n",
        "  edad = int(input(\"Edad \"))\n",
        "  estado = input(\"Estado Civil \")\n",
        "  hijos = int(input(\"Numero de hijos \"))\n",
        "  estat_cm = input(\"Estatura en cm \")\n",
        "  fecha_cont = input(\"Fecha de Contratacion \")\n",
        "  sueldo = int(input(\"Sueldo Basico \"))\n",
        "  dias_lab = int(input(\"Dias Laborados \"))\n",
        "  print(\"\\n\")\n",
        "  print(f\"Identificación: {num_id}\")\n",
        "  print(f\"Nombre: {nombres} Apellidos: {apellidos} Direccion: {direccion} Telefono: {telefono} Edad: {edad} \")\n",
        "  print(f\"Estado civil: {estado} Numero de hijos: {hijos} estatura: {estat_cm} \")\n",
        "  print(f\"Fecha de Contratacion: {fecha_cont} Sueldo: {sueldo}  Dias Laborados: {dias_lab}\")\n",
        "  print(\"\\n\")\n",
        "  if edad > 55:\n",
        "    bono = sueldo * 0.005\n",
        "    print(\"Es mayor de 55 años y tiene derecho a un bono de prepension por valor de: ${:,.0f} \\n\".format (bono))\n",
        "  else:\n",
        "    print(f\"Su edad es {edad} años, es menor que 55 años, No tiene derecho a bono prepensional\")\n",
        "  if estado == \"casado\" and hijos > 0:\n",
        "    print(f\"Estado civil {estado}, se le otorga un paseo cada Diciembre\")\n",
        "  else:\n",
        "    print(\"No se le otorga un paseo en Diciembre\")\n",
        "  if sueldo >= 1000000 and sueldo <= 1500000:\n",
        "    comision = sueldo * 0.002\n",
        "    print(\"Rango de sueldo entre $ 1.000.000 y $ 1.500.000, tiene derecho a una comision del 2% sobre su sueldo: ${:,.0f} \\n\".format (comision))\n",
        "  elif sueldo >= 1500001 and sueldo <= 2000000:\n",
        "      comision_2 = sueldo * 0.005\n",
        "      print(\"Rango de sueldo entre $ 1.500.001 y $ 2.000.000, tiene derecho a una comision del 5% sobre su sueldo: ${:,.0f} \\n\".format (comision_2))\n",
        "  else:\n",
        "    print(\"Su sueldo esta fuera de los rangos establecidos, No hay comision \")\n",
        "  if dias_lab > 20 and sueldo < 1000000:\n",
        "    print(f\"Trabajo {dias_lab} dias, su ingreso base es de ${sueldo}, tiene derecho a un bono de alimentación\")\n",
        "  else:\n",
        "    print(\"No cumple con las condiciones para tener derecho a un bono de alimentación\")  \n",
        "funcionario()"
      ],
      "metadata": {
        "id": "Y4XXa04WevxY"
      },
      "execution_count": null,
      "outputs": []
    },
    {
      "cell_type": "code",
      "source": [],
      "metadata": {
        "id": "ggSJjA0HOpFH"
      },
      "execution_count": null,
      "outputs": []
    },
    {
      "cell_type": "code",
      "source": [],
      "metadata": {
        "id": "ixOCJPSCp1SF"
      },
      "execution_count": null,
      "outputs": []
    },
    {
      "cell_type": "code",
      "source": [
        "num1=int(input(\"numero1: \"))\n",
        "num2=int(input(\"numero2: \"))\n",
        "print(num1 + num2)"
      ],
      "metadata": {
        "colab": {
          "base_uri": "https://localhost:8080/"
        },
        "id": "2l1O03Zr0ofq",
        "outputId": "b4c6aac7-125c-45e1-cb21-faa7c27108a1"
      },
      "execution_count": null,
      "outputs": [
        {
          "output_type": "stream",
          "name": "stdout",
          "text": [
            "numero1: 5\n",
            "numero2: 6\n",
            "11\n"
          ]
        }
      ]
    },
    {
      "cell_type": "code",
      "source": [
        "id=1111144736\n",
        "nom=\"Gilberto\"\n",
        "ape=\"Sanchez\"\n",
        "dir=\"Cra 8 Nro 46-35\"\n",
        "tel=321787645\n",
        "ed=28\n",
        "ecivil=\"Casado\"\n",
        "n_hijos=2\n",
        "est=167\n",
        "fec_con=\"01/01/2015\"\n",
        "sueldo_bas=12345678\n",
        "d_lab=30\n",
        "\n",
        "print(\"el señor\" ,nom,ape,\"identificado con numero de documento\",id,\",reside en la direccion\",dir,\"indica su numero de celular\",tel)\n",
        "print(\"estado civil\",ecivil,\"tiene \",n_hijos,\"hijos,\",\"estatura\",est,\"cm\", \" se encuentra laborando desde\",fec_con, \"tiene un salario\",sueldo_bas)\n",
        "print(\"correspondiente a \",d_lab,\"dias de trabajo\")\n"
      ],
      "metadata": {
        "colab": {
          "base_uri": "https://localhost:8080/"
        },
        "id": "lQGFZqKRjgdz",
        "outputId": "627ff03b-342d-480a-d9a7-ca6c30cc8fa3"
      },
      "execution_count": null,
      "outputs": [
        {
          "output_type": "stream",
          "name": "stdout",
          "text": [
            "el señor Gilberto Sanchez identificado con numero de documento 1111144736 ,reside en la direccion Cra 8 Nro 46-35 indica su numero de celular 321787645\n",
            "estado civil Casado tiene  2 hijos, estatura 167 cm  se encuentra laborando desde 01/01/2015 tiene un salario 12345678\n",
            "correspondiente a  30 dias de trabajo\n"
          ]
        }
      ]
    },
    {
      "cell_type": "code",
      "source": [],
      "metadata": {
        "id": "4i2adlhHp4VZ"
      },
      "execution_count": null,
      "outputs": []
    }
  ]
}